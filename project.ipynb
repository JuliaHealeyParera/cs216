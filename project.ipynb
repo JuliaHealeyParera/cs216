{
 "cells": [
  {
   "cell_type": "markdown",
   "metadata": {},
   "source": [
    "web scraper using beautiful soup to get the table from teamrankings.com\n"
   ]
  },
  {
   "cell_type": "code",
   "execution_count": 16,
   "metadata": {},
   "outputs": [
    {
     "name": "stdout",
     "output_type": "stream",
     "text": [
      "Data from away_winLoss.html has been saved to away_winLoss.csv\n",
      "Data from asUnderdog_winLoss.html has been saved to asUnderdog_winLoss.csv\n",
      "Data from equalRest_winLoss.html has been saved to equalRest_winLoss.csv\n",
      "Data from afterLoss_winLoss.html has been saved to afterLoss_winLoss.csv\n",
      "Data from restAdvantage_winLoss.html has been saved to restAdvantage_winLoss.csv\n",
      "Data from home_winLoss.html has been saved to home_winLoss.csv\n",
      "Data from neutralSite_winLoss.html has been saved to neutralSite_winLoss.csv\n",
      "Data from afterWin_winLoss.html has been saved to afterWin_winLoss.csv\n",
      "All files processed.\n"
     ]
    }
   ],
   "source": [
    "from bs4 import BeautifulSoup\n",
    "import pandas as pd\n",
    "import csv\n",
    "import os\n",
    "\n",
    "# Directory where your HTML files are stored\n",
    "directory_path = '/Users/angiehuang/duke/cs216/final_project/html_teamranking/'\n",
    "\n",
    "# Loop through each file in the directory\n",
    "for filename in os.listdir(directory_path):\n",
    "    if filename.endswith(\".html\"):\n",
    "        # Construct full file path\n",
    "        file_path = os.path.join(directory_path, filename)\n",
    "        \n",
    "        # Open and parse each HTML file\n",
    "        with open(file_path, 'r', encoding='utf-8') as file:\n",
    "            soup = BeautifulSoup(file, 'html.parser')\n",
    "        \n",
    "        # Locate the table\n",
    "        table = soup.find('table')\n",
    "        if not table:\n",
    "            print(f\"No table found in {filename}\")\n",
    "            continue  # Skip to next file if no table found\n",
    "\n",
    "        # Extract headers\n",
    "        headers = [header.text.strip() for header in table.find_all('th')]\n",
    "\n",
    "        # Extract rows\n",
    "        rows = []\n",
    "        for row in table.find_all('tr'):\n",
    "            cells = row.find_all('td')\n",
    "            row_data = [cell.text.strip() for cell in cells]\n",
    "            if row_data:\n",
    "                rows.append(row_data)\n",
    "        \n",
    "        # Save data to a new CSV file\n",
    "        csv_filename = filename.replace('.html', '.csv')\n",
    "        csv_path = os.path.join(directory_path, csv_filename)\n",
    "        \n",
    "        with open(csv_path, 'w', newline='') as csvfile:\n",
    "            writer = csv.writer(csvfile)\n",
    "            writer.writerow(headers)  # Write headers\n",
    "            writer.writerows(rows)    # Write data rows\n",
    "        print(f\"Data from {filename} has been saved to {csv_filename}\")\n",
    "\n",
    "print(\"All files processed.\")\n"
   ]
  },
  {
   "cell_type": "code",
   "execution_count": 17,
   "metadata": {},
   "outputs": [
    {
     "name": "stdout",
     "output_type": "stream",
     "text": [
      "DataFrame created for afterLoss_winLoss.csv\n",
      "DataFrame created for asUnderdog_winLoss.csv\n",
      "DataFrame created for restAdvantage_winLoss.csv\n",
      "DataFrame created for neutralSite_winLoss.csv\n",
      "DataFrame created for equalRest_winLoss.csv\n",
      "DataFrame created for away_winLoss.csv\n",
      "DataFrame created for afterWin_winLoss.csv\n",
      "DataFrame created for home_winLoss.csv\n"
     ]
    }
   ],
   "source": [
    "import pandas as pd\n",
    "import os\n",
    "\n",
    "# Directory where your CSV files are stored\n",
    "directory_path = '/Users/angiehuang/duke/cs216/final_project/html_teamranking/'\n",
    "\n",
    "# Loop through each CSV file in the directory and create DataFrames\n",
    "for filename in os.listdir(directory_path):\n",
    "    if filename.endswith(\".csv\"):\n",
    "        # Construct full file path\n",
    "        csv_path = os.path.join(directory_path, filename)\n",
    "        \n",
    "        # Read CSV into a DataFrame\n",
    "        df = pd.read_csv(csv_path)\n",
    "        \n",
    "        # Use filename as the name of the DataFrame (without \".csv\")\n",
    "        exec(f\"{filename.replace('.csv', '')} = df\")\n",
    "        \n",
    "        # Print to confirm\n",
    "        print(f\"DataFrame created for {filename}\")\n"
   ]
  },
  {
   "cell_type": "code",
   "execution_count": null,
   "metadata": {},
   "outputs": [
    {
     "name": "stdout",
     "output_type": "stream",
     "text": [
      "             Team Win-Loss Record  Win %   MOV ATS +/-\n",
      "0            Duke        194-48-0  80.2%   9.7    -0.3\n",
      "1          Kansas        173-58-0  74.9%   9.2    +0.8\n",
      "2         Gonzaga        171-62-0  73.4%   7.3    +0.5\n",
      "3          Queens           5-2-0  71.4%   5.6    +5.6\n",
      "4     Connecticut        138-57-0  70.8%   5.6    +1.7\n",
      "..            ...             ...    ...   ...     ...\n",
      "357  Presbyterian          7-24-0  22.6%  -8.2    -2.9\n",
      "358   Maryland ES         12-42-0  22.2%  -8.7    -2.2\n",
      "359  St Fran (PA)           1-4-0  20.0% -12.2    -3.0\n",
      "360          UCSD           0-8-0   0.0% -17.8   -10.5\n",
      "361    Mercyhurst           0-1-0   0.0% -22.0      --\n",
      "\n",
      "[362 rows x 5 columns]\n"
     ]
    }
   ],
   "source": [
    "#previous game was a loss -> is the next game a win/loss?\n",
    "print(afterLoss_winLoss)\n",
    "\n",
    "#previous game was a win -> is the next game a win/loss?\n",
    "print(afterWin_winLoss)\n",
    "\n",
    "#games won/lost as the underdog aka lower team ranking/seeding\n",
    "print(asUnderdog_winLoss)\n",
    "\n",
    "#games won/lost WITH a rest advantage, or having 1+ days of rest compared to the other team\n",
    "print(restAdvantage_winLoss)\n",
    "\n",
    "#games won/lost with equal days rest compared to the other team (baseline for restAdvantange)\n",
    "print(equalRest_winLoss)\n",
    "\n",
    "#games won/lost as the away team\n",
    "print(away_winLoss)\n",
    "\n",
    "#games won/lost as the home team\n",
    "print(home_winLoss)\n",
    "\n",
    "#games won/lost playing on a neutral site (might be useful to compare as baseline agasint home/away)\n",
    "print(neutralSite_winLoss)\n"
   ]
  },
  {
   "cell_type": "code",
   "execution_count": null,
   "metadata": {},
   "outputs": [],
   "source": []
  }
 ],
 "metadata": {
  "kernelspec": {
   "display_name": "base",
   "language": "python",
   "name": "python3"
  },
  "language_info": {
   "codemirror_mode": {
    "name": "ipython",
    "version": 3
   },
   "file_extension": ".py",
   "mimetype": "text/x-python",
   "name": "python",
   "nbconvert_exporter": "python",
   "pygments_lexer": "ipython3",
   "version": "3.10.14"
  }
 },
 "nbformat": 4,
 "nbformat_minor": 2
}
